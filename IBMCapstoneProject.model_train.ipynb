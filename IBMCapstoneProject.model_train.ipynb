{
 "cells": [
  {
   "cell_type": "markdown",
   "metadata": {},
   "source": [
    "# Model Definition"
   ]
  },
  {
   "cell_type": "markdown",
   "metadata": {},
   "source": [
    "## Regression Model to Predict Customer Purchasing Behavior.\n",
    "\n",
    "Now we will create a regression model that predicts the average monthly spend of new customers. For now, we will keep the same feaure variables, and just change the target variable.\n",
    "\n",
    "We will use: \n",
    "\n",
    "- A Regression Linear Model from sklearn\n",
    "- A Neural Network from keras"
   ]
  },
  {
   "cell_type": "markdown",
   "metadata": {},
   "source": [
    "## Selection of Model Performance Indicator\n",
    "\n",
    "For this regression task, we will use the **Mean Squared Error** as model performance indicator. We will use it because it tells how close a regression line is to a set of points. Besides, the MSE gives more weight to larger differences (due to the squared part). Since we want to penalize large differences, the MSE looks appropriate."
   ]
  },
  {
   "cell_type": "code",
   "execution_count": 40,
   "metadata": {},
   "outputs": [],
   "source": [
    "from sklearn.metrics import mean_squared_error"
   ]
  },
  {
   "cell_type": "code",
   "execution_count": 41,
   "metadata": {},
   "outputs": [],
   "source": [
    "# Genererate the target variable y_\n",
    "y2 = aw_avupdated['AveMonthSpend']\n",
    "# Keep the same feature variable X\n",
    "\n",
    "X_train2, X_valid2, y_train2, y_valid2 = train_test_split(Features, y2, train_size=0.75, test_size=0.25, random_state=0)\n",
    "scaler2 = preprocessing.StandardScaler().fit(X_train2[:, 15:])\n",
    "X_train2[:, 15:] = scaler2.transform(X_train2[:, 15:])\n",
    "X_valid2[:, 15:] = scaler2.transform(X_valid2[:, 15:])"
   ]
  },
  {
   "cell_type": "markdown",
   "metadata": {},
   "source": [
    "### Machine Learning Model from sklearn (Linear Model)"
   ]
  },
  {
   "cell_type": "code",
   "execution_count": 42,
   "metadata": {},
   "outputs": [],
   "source": [
    "# Define and fit the linear regression model\n",
    "lin_mod = linear_model.LinearRegression(fit_intercept = False)\n"
   ]
  },
  {
   "cell_type": "markdown",
   "metadata": {},
   "source": [
    "# Model Training"
   ]
  },
  {
   "cell_type": "code",
   "execution_count": 43,
   "metadata": {},
   "outputs": [
    {
     "name": "stdout",
     "output_type": "stream",
     "text": [
      "===========================\n",
      "Training completed\n"
     ]
    }
   ],
   "source": [
    "lin_mod.fit(X_train2, y_train2)\n",
    "print(\"===========================\")\n",
    "print(\"Training completed\")"
   ]
  },
  {
   "cell_type": "markdown",
   "metadata": {},
   "source": [
    "### Deep Learning Model from Keras"
   ]
  },
  {
   "cell_type": "code",
   "execution_count": 44,
   "metadata": {},
   "outputs": [
    {
     "name": "stderr",
     "output_type": "stream",
     "text": [
      "Using TensorFlow backend.\n"
     ]
    },
    {
     "name": "stdout",
     "output_type": "stream",
     "text": [
      "WARNING:tensorflow:From C:\\Users\\user\\Anaconda3\\lib\\site-packages\\tensorflow\\python\\framework\\op_def_library.py:263: colocate_with (from tensorflow.python.framework.ops) is deprecated and will be removed in a future version.\n",
      "Instructions for updating:\n",
      "Colocations handled automatically by placer.\n",
      "WARNING:tensorflow:From C:\\Users\\user\\Anaconda3\\lib\\site-packages\\tensorflow\\python\\ops\\math_ops.py:3066: to_int32 (from tensorflow.python.ops.math_ops) is deprecated and will be removed in a future version.\n",
      "Instructions for updating:\n",
      "Use tf.cast instead.\n",
      "Epoch 1/10\n",
      "12303/12303 [==============================] - 1s 48us/step - loss: 2074.3651\n",
      "Epoch 2/10\n",
      "12303/12303 [==============================] - 0s 31us/step - loss: 51.3905\n",
      "Epoch 3/10\n",
      "12303/12303 [==============================] - 0s 39us/step - loss: 33.7937\n",
      "Epoch 4/10\n",
      "12303/12303 [==============================] - 0s 34us/step - loss: 27.7654\n",
      "Epoch 5/10\n",
      "12303/12303 [==============================] - 0s 36us/step - loss: 23.3538\n",
      "Epoch 6/10\n",
      "12303/12303 [==============================] - 1s 44us/step - loss: 20.1866\n",
      "Epoch 7/10\n",
      "12303/12303 [==============================] - 1s 44us/step - loss: 17.9718\n",
      "Epoch 8/10\n",
      "12303/12303 [==============================] - 1s 42us/step - loss: 16.5468\n",
      "Epoch 9/10\n",
      "12303/12303 [==============================] - 0s 33us/step - loss: 15.5150\n",
      "Epoch 10/10\n",
      "12303/12303 [==============================] - 0s 31us/step - loss: 14.7199\n"
     ]
    },
    {
     "data": {
      "text/plain": [
       "<keras.callbacks.History at 0x135c55c0>"
      ]
     },
     "execution_count": 44,
     "metadata": {},
     "output_type": "execute_result"
    }
   ],
   "source": [
    "import keras\n",
    "\n",
    "from keras.models import Sequential\n",
    "from keras.layers import Dense\n",
    "\n",
    "# define the model\n",
    "model = Sequential()\n",
    "model.add(Dense(units=32, activation='relu', input_dim=X_train2.shape[1]))\n",
    "model.add(Dense(units=32, activation='relu'))\n",
    "model.add(Dense(units=1))\n",
    "\n",
    "# compile the model\n",
    "model.compile(loss='mean_squared_error', optimizer='adam')\n",
    "\n",
    "# Model Training\n",
    "model.fit(X_train2, y_train2, epochs=10, batch_size = 32)\n"
   ]
  }
 ],
 "metadata": {
  "kernelspec": {
   "display_name": "Python 3",
   "language": "python",
   "name": "python3"
  },
  "language_info": {
   "codemirror_mode": {
    "name": "ipython",
    "version": 3
   },
   "file_extension": ".py",
   "mimetype": "text/x-python",
   "name": "python",
   "nbconvert_exporter": "python",
   "pygments_lexer": "ipython3",
   "version": "3.7.3"
  }
 },
 "nbformat": 4,
 "nbformat_minor": 2
}
